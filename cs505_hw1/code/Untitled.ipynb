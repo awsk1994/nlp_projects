{
 "cells": [
  {
   "cell_type": "code",
   "execution_count": 17,
   "metadata": {},
   "outputs": [],
   "source": [
    "# https://towardsdatascience.com/multi-class-text-classification-with-scikit-learn-12f1e60e0a9f"
   ]
  },
  {
   "cell_type": "code",
   "execution_count": 2,
   "metadata": {},
   "outputs": [],
   "source": [
    "from pathlib import Path\n",
    "import pandas as pd\n",
    "from sklearn.pipeline import Pipeline\n",
    "from sklearn.feature_extraction.text import CountVectorizer\n",
    "from sklearn.naive_bayes import ComplementNB\n",
    "from sklearn.linear_model import LogisticRegression\n",
    "\n",
    "import our_metrics\n",
    "\n",
    "# Added lib\n",
    "from sklearn.feature_extraction.text import TfidfTransformer\n",
    "from sklearn.naive_bayes import MultinomialNB\n",
    "import numpy as np"
   ]
  },
  {
   "cell_type": "code",
   "execution_count": 3,
   "metadata": {},
   "outputs": [],
   "source": [
    "TRAIN_FILE = Path(\"raw_data/GunViolence/train.tsv\")\n",
    "DEV_FILE = Path(\"raw_data/GunViolence/dev.tsv\")\n",
    "TEST_FILE = Path(\"raw_data/GunViolence/test.tsv\")\n",
    "\n",
    "LABELS = [1, 2, 3, 4, 5, 6, 7, 8, 9]\n"
   ]
  },
  {
   "cell_type": "code",
   "execution_count": 4,
   "metadata": {},
   "outputs": [],
   "source": [
    "\n",
    "\n",
    "def load_data_file(data_file, is_test_file = False):\n",
    "    \"\"\"Load newsframing data\n",
    "\n",
    "    Returns\n",
    "    -------\n",
    "    tuple\n",
    "        First element is a list of strings(headlines)\n",
    "        If `data_file` has labels, the second element\n",
    "        will be a list of labels for each headline. \n",
    "        Otherwise, the second element will be None.\n",
    "    \"\"\"\n",
    "    print(\"Loading from {} ...\".format(data_file.name), end=\"\")\n",
    "    text_col = \"news_title\"\n",
    "    theme1_col = \"Q3 Theme1\"\n",
    "\n",
    "    with open(data_file) as f:\n",
    "        df = pd.read_csv(f, sep=\"\\t\")\n",
    "        X = df[text_col].tolist()\n",
    "\n",
    "        y = None\n",
    "        if not is_test_file:\n",
    "            if theme1_col in df.columns:\n",
    "                y = df[theme1_col].tolist()\n",
    "\n",
    "        print(\n",
    "            \"loaded {} lines {} labels ... done\".format(\n",
    "                len(X), \"with\" if y is not None else \"without\"\n",
    "            )\n",
    "        )\n",
    "\n",
    "    return (X, y)\n",
    "\n",
    "def build_naive_bayes():\n",
    "    \"\"\"\n",
    "\n",
    "    Returns\n",
    "    -------\n",
    "        Pipeline\n",
    "        An sklearn Pipeline\n",
    "    \"\"\"\n",
    "    nb_pipeline = None\n",
    "    ##### Write code here #######\n",
    "\n",
    "    nb_pipeline = Pipeline([\n",
    "        ('vect', CountVectorizer()),\n",
    "        ('tfidf', TfidfTransformer()),\n",
    "        ('clf', MultinomialNB()),\n",
    "    ])\n",
    "\n",
    "    ##### End of your work ######\n",
    "    return nb_pipeline\n",
    "\n",
    "\n",
    "def build_logistic_regr():\n",
    "    \"\"\"\n",
    "\n",
    "    Returns\n",
    "    -------\n",
    "        Pipeline\n",
    "        An sklearn Pipeline\n",
    "    \"\"\"\n",
    "    logistic_pipeline = None\n",
    "    ##### Write code here #######\n",
    "\n",
    "    logistic_pipeline = Pipeline([\n",
    "        ('vect', CountVectorizer()),\n",
    "        ('tfidf', TfidfTransformer()),\n",
    "        ('clf', LogisticRegression(multi_class='ovr')),\n",
    "    ])\n",
    "\n",
    "    ##### End of your work ######\n",
    "    return logistic_pipeline\n",
    "\n",
    "\n",
    "def build_own_pipeline() -> Pipeline:\n",
    "    \"\"\"\n",
    "\n",
    "    Returns\n",
    "    -------\n",
    "        Pipeline\n",
    "        An sklearn Pipeline\n",
    "    \"\"\"\n",
    "    pipeline = None\n",
    "    ##### Write code here #######\n",
    "\n",
    "    ##### End of your work ######\n",
    "    return pipeline\n",
    "\n",
    "\n",
    "def output_predictions(pipeline):\n",
    "    \"\"\"Load test data, predict using given pipeline, and write predictions to file.\n",
    "\n",
    "    The output must be named \"predictions.tsv\" and must have the following format.\n",
    "    Here, the first three examples were predicted to be 7,2,3, and the last were \n",
    "    predicted to be 6,6, and 2.\n",
    "\n",
    "    Be sure not to permute the order of the examples in the test file.\n",
    "\n",
    "        7\n",
    "        2\n",
    "        3\n",
    "        .\n",
    "        .\n",
    "        .\n",
    "        6\n",
    "        6\n",
    "        2\n",
    "\n",
    "    \"\"\"\n",
    "    ##### Write code here #######\n",
    "    pass\n",
    "    ##### End of your work ######\n",
    "\n",
    "def testing(X_train, y_train_true, X_dev, y_dev_true):\n",
    "    from sklearn.feature_extraction.text import CountVectorizer\n",
    "    from sklearn.feature_extraction.text import TfidfTransformer\n",
    "    from sklearn.naive_bayes import MultinomialNB\n",
    "\n",
    "    # Count Vectorizer\n",
    "    train_vectorizer = CountVectorizer()\n",
    "    X_cv_train = train_vectorizer.fit_transform(X_train)\n",
    "    # print(vectorizer.get_feature_names())\n",
    "    # print(X.toarray())\n",
    "\n",
    "    # Tfid Transformer\n",
    "    tf_train_transformer = TfidfTransformer().fit(X_cv_train)\n",
    "    X_train_tfidf = tf_train_transformer.transform(X_cv_train)\n",
    "    # print(X_train_tf)\n",
    "\n",
    "    # Fit model\n",
    "    print(\"X_train_tfidf shape\", X_train_tfidf.shape)\n",
    "\n",
    "    # print(tfidf_transformer.idf_)\n",
    "    # print(cv.get_feature_names())\n",
    "    clf = MultinomialNB(alpha=0.1).fit(X_train_tfidf, y_train_true)\n",
    "\n",
    "    # Predict validation set\n",
    "    # dev_vectorizer = CountVectorizer()\n",
    "    X_cv_dev = train_vectorizer.transform(X_dev)\n",
    "    print(\"fname\", len(train_vectorizer.get_feature_names()))\n",
    "\n",
    "    # tf_dev_transformer = TfidfTransformer(use_idf=False).fit(X_cv_dev)\n",
    "    X_dev_tfidf = tf_train_transformer.transform(X_cv_dev)\n",
    "    print(tf_train_transformer.get_params())\n",
    "\n",
    "    dev_pred = clf.predict(X_dev_tfidf)\n",
    "\n",
    "    # np_pred = np.array(predicted)\n",
    "    # np_y = np.array(y_dev_true)\n",
    "    # print(\"Predicted:\")\n",
    "    # print(np_pred)\n",
    "    # print(\"True:\")\n",
    "    # print(np_y)\n",
    "\n",
    "    # print(\"Correct:\", np.sum(np_pred == np_y))\n",
    "    # print(\"Wrong\", np.sum(np_pred != np_y))\n",
    "\n",
    "    labels = list(np.unique(np.array(y_train_true)))\n",
    "\n",
    "    print(\"Pipe = {}\".format(\"Self\"))\n",
    "    for averaging in ['micro', 'macro']:\n",
    "        our_recall = our_metrics.recall(y_dev_true, dev_pred, labels=labels, average=averaging)\n",
    "        our_precision = our_metrics.precision(y_dev_true, dev_pred, labels=labels, average=averaging)\n",
    "        print(\"\\tAveraging = {}\\n\\t\\tRecall = {}\\n\\t\\tPrecision = {}\".format(averaging, our_recall, our_precision))\n"
   ]
  },
  {
   "cell_type": "code",
   "execution_count": 5,
   "metadata": {},
   "outputs": [
    {
     "name": "stdout",
     "output_type": "stream",
     "text": [
      "Loading from train.tsv ...loaded 1040 lines with labels ... done\n"
     ]
    }
   ],
   "source": [
    "X_train, y_train_true = load_data_file(TRAIN_FILE)"
   ]
  },
  {
   "cell_type": "code",
   "execution_count": 22,
   "metadata": {},
   "outputs": [],
   "source": [
    "# initialise data of lists. \n",
    "train = {'x': X_train, 'y': y_train_true} \n",
    "\n",
    "# Creates pandas DataFrame. \n",
    "df_train = pd.DataFrame(train)"
   ]
  },
  {
   "cell_type": "code",
   "execution_count": 24,
   "metadata": {},
   "outputs": [
    {
     "data": {
      "image/png": "[encoded data removed]",
      "text/plain": [
       "<Figure size 576x432 with 1 Axes>"
      ]
     },
     "metadata": {
      "needs_background": "light"
     },
     "output_type": "display_data"
    },
    {
     "name": "stdout",
     "output_type": "stream",
     "text": [
      "y\n",
      "1     30\n",
      "2    172\n",
      "3    298\n",
      "4     52\n",
      "5    110\n",
      "6     91\n",
      "7    190\n",
      "8     33\n",
      "9     64\n",
      "Name: x, dtype: int64\n"
     ]
    }
   ],
   "source": [
    "# Plot Class Balance\n",
    "\n",
    "import matplotlib.pyplot as plt\n",
    "fig = plt.figure(figsize=(8,6))\n",
    "df_X.groupby('y').x.count().plot.bar(ylim=0)\n",
    "plt.show()\n",
    "print(df_X.groupby('y').x.count())"
   ]
  },
  {
   "cell_type": "code",
   "execution_count": 82,
   "metadata": {},
   "outputs": [
    {
     "name": "stdout",
     "output_type": "stream",
     "text": [
      "7    115\n",
      "3    115\n",
      "2    115\n",
      "5    110\n",
      "6     91\n",
      "9     64\n",
      "4     52\n",
      "8     33\n",
      "1     30\n",
      "Name: y, dtype: int64\n"
     ]
    }
   ],
   "source": [
    "import math\n",
    "\n",
    "ave = math.floor(np.mean(np.array(list(df_X.groupby('y').x.count()))))\n",
    "\n",
    "def sampling_k_elements(group, k=ave):\n",
    "    if len(group) < k:\n",
    "        return group\n",
    "    return group.sample(k)\n",
    "df_train_balanced = df_X.groupby('y').apply(sampling_k_elements).reset_index(drop=True)\n",
    "\n",
    "print(df_train_balanced['y'].value_counts())"
   ]
  },
  {
   "cell_type": "code",
   "execution_count": 50,
   "metadata": {},
   "outputs": [],
   "source": [
    "# Output csv\n",
    "df_train_balanced.to_csv('./raw_data/GunViolence/train_balanced.tsv', index=False)"
   ]
  }
 ],
 "metadata": {
  "kernelspec": {
   "display_name": "Python 3",
   "language": "python",
   "name": "python3"
  },
  "language_info": {
   "codemirror_mode": {
    "name": "ipython",
    "version": 3
   },
   "file_extension": ".py",
   "mimetype": "text/x-python",
   "name": "python",
   "nbconvert_exporter": "python",
   "pygments_lexer": "ipython3",
   "version": "3.7.3"
  }
 },
 "nbformat": 4,
 "nbformat_minor": 2
}
